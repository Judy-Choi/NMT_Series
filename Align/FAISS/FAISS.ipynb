{
  "nbformat": 4,
  "nbformat_minor": 0,
  "metadata": {
    "colab": {
      "provenance": []
    },
    "kernelspec": {
      "name": "python3",
      "display_name": "Python 3"
    },
    "language_info": {
      "name": "python"
    },
    "accelerator": "GPU",
    "gpuClass": "standard"
  },
  "cells": [
    {
      "cell_type": "markdown",
      "source": [
        "# FAISS for NMT Bitext Tutorial"
      ],
      "metadata": {
        "id": "aob1vb-QOTaD"
      }
    },
    {
      "cell_type": "markdown",
      "source": [
        "## Mount Drive & Files"
      ],
      "metadata": {
        "id": "yyHFsRSzOfw2"
      }
    },
    {
      "cell_type": "code",
      "execution_count": null,
      "metadata": {
        "colab": {
          "base_uri": "https://localhost:8080/"
        },
        "id": "YmxihkySJgt4",
        "outputId": "152b84da-a006-4946-c624-4fac60fa95ba"
      },
      "outputs": [
        {
          "output_type": "stream",
          "name": "stdout",
          "text": [
            "Mounted at /content/drive\n"
          ]
        }
      ],
      "source": [
        "from google.colab import drive\n",
        "drive.mount('/content/drive')\n",
        "\n",
        "import os\n",
        "import sys\n",
        "my_path = '/content/notebooks'\n",
        "os.symlink('/content/drive/MyDrive/AllforOne/package_collection', my_path)\n",
        "sys.path.insert(0, my_path)"
      ]
    },
    {
      "cell_type": "code",
      "source": [
        "!nvidia-smi"
      ],
      "metadata": {
        "colab": {
          "base_uri": "https://localhost:8080/"
        },
        "id": "OsovoOPiJqkJ",
        "outputId": "05dd0916-fd9e-45ac-f8db-ce191349d613"
      },
      "execution_count": null,
      "outputs": [
        {
          "output_type": "stream",
          "name": "stdout",
          "text": [
            "Tue Mar 28 03:08:09 2023       \n",
            "+-----------------------------------------------------------------------------+\n",
            "| NVIDIA-SMI 525.85.12    Driver Version: 525.85.12    CUDA Version: 12.0     |\n",
            "|-------------------------------+----------------------+----------------------+\n",
            "| GPU  Name        Persistence-M| Bus-Id        Disp.A | Volatile Uncorr. ECC |\n",
            "| Fan  Temp  Perf  Pwr:Usage/Cap|         Memory-Usage | GPU-Util  Compute M. |\n",
            "|                               |                      |               MIG M. |\n",
            "|===============================+======================+======================|\n",
            "|   0  Tesla T4            Off  | 00000000:00:04.0 Off |                    0 |\n",
            "| N/A   67C    P8    11W /  70W |      0MiB / 15360MiB |      0%      Default |\n",
            "|                               |                      |                  N/A |\n",
            "+-------------------------------+----------------------+----------------------+\n",
            "                                                                               \n",
            "+-----------------------------------------------------------------------------+\n",
            "| Processes:                                                                  |\n",
            "|  GPU   GI   CI        PID   Type   Process name                  GPU Memory |\n",
            "|        ID   ID                                                   Usage      |\n",
            "|=============================================================================|\n",
            "|  No running processes found                                                 |\n",
            "+-----------------------------------------------------------------------------+\n"
          ]
        }
      ]
    },
    {
      "cell_type": "markdown",
      "source": [
        "## 1. Install FAISS"
      ],
      "metadata": {
        "id": "x5j25LbPOil2"
      }
    },
    {
      "cell_type": "code",
      "source": [
        "!pip install faiss-gpu"
      ],
      "metadata": {
        "colab": {
          "base_uri": "https://localhost:8080/"
        },
        "id": "zbNQ1DDEJriz",
        "outputId": "c6a62ec9-de30-432e-ec04-381ad9b7dbd1"
      },
      "execution_count": null,
      "outputs": [
        {
          "output_type": "stream",
          "name": "stdout",
          "text": [
            "Looking in indexes: https://pypi.org/simple, https://us-python.pkg.dev/colab-wheels/public/simple/\n",
            "Collecting faiss-gpu\n",
            "  Downloading faiss_gpu-1.7.2-cp39-cp39-manylinux_2_17_x86_64.manylinux2014_x86_64.whl (85.5 MB)\n",
            "\u001b[2K     \u001b[90m━━━━━━━━━━━━━━━━━━━━━━━━━━━━━━━━━━━━━━━━\u001b[0m \u001b[32m85.5/85.5 MB\u001b[0m \u001b[31m12.0 MB/s\u001b[0m eta \u001b[36m0:00:00\u001b[0m\n",
            "\u001b[?25hInstalling collected packages: faiss-gpu\n",
            "Successfully installed faiss-gpu-1.7.2\n"
          ]
        }
      ]
    },
    {
      "cell_type": "markdown",
      "source": [
        "## 2. Install LASER"
      ],
      "metadata": {
        "id": "XhMzuqm-OnPv"
      }
    },
    {
      "cell_type": "code",
      "source": [
        "!pip install laserembeddings\n",
        "!python -m laserembeddings download-models"
      ],
      "metadata": {
        "colab": {
          "base_uri": "https://localhost:8080/"
        },
        "id": "0_ya0jDpKCo4",
        "outputId": "ad056d26-a9f8-48ca-9cb3-d8b4f11c3730"
      },
      "execution_count": null,
      "outputs": [
        {
          "output_type": "stream",
          "name": "stdout",
          "text": [
            "Looking in indexes: https://pypi.org/simple, https://us-python.pkg.dev/colab-wheels/public/simple/\n",
            "Collecting laserembeddings\n",
            "  Downloading laserembeddings-1.1.2-py3-none-any.whl (13 kB)\n",
            "Collecting subword-nmt<0.4.0,>=0.3.6\n",
            "  Downloading subword_nmt-0.3.8-py3-none-any.whl (27 kB)\n",
            "Requirement already satisfied: numpy<2.0.0,>=1.15.4 in /usr/local/lib/python3.9/dist-packages (from laserembeddings) (1.22.4)\n",
            "Collecting sacremoses==0.0.35\n",
            "  Downloading sacremoses-0.0.35.tar.gz (859 kB)\n",
            "\u001b[2K     \u001b[90m━━━━━━━━━━━━━━━━━━━━━━━━━━━━━━━━━━━━━━\u001b[0m \u001b[32m859.8/859.8 KB\u001b[0m \u001b[31m25.3 MB/s\u001b[0m eta \u001b[36m0:00:00\u001b[0m\n",
            "\u001b[?25h  Preparing metadata (setup.py) ... \u001b[?25l\u001b[?25hdone\n",
            "Requirement already satisfied: torch<2.0.0,>=1.0.1.post2 in /usr/local/lib/python3.9/dist-packages (from laserembeddings) (1.13.1+cu116)\n",
            "Collecting transliterate==1.10.2\n",
            "  Downloading transliterate-1.10.2-py2.py3-none-any.whl (45 kB)\n",
            "\u001b[2K     \u001b[90m━━━━━━━━━━━━━━━━━━━━━━━━━━━━━━━━━━━━━━━━\u001b[0m \u001b[32m45.8/45.8 KB\u001b[0m \u001b[31m3.1 MB/s\u001b[0m eta \u001b[36m0:00:00\u001b[0m\n",
            "\u001b[?25hRequirement already satisfied: six in /usr/local/lib/python3.9/dist-packages (from sacremoses==0.0.35->laserembeddings) (1.16.0)\n",
            "Requirement already satisfied: click in /usr/local/lib/python3.9/dist-packages (from sacremoses==0.0.35->laserembeddings) (8.1.3)\n",
            "Requirement already satisfied: joblib in /usr/local/lib/python3.9/dist-packages (from sacremoses==0.0.35->laserembeddings) (1.1.1)\n",
            "Requirement already satisfied: tqdm in /usr/local/lib/python3.9/dist-packages (from sacremoses==0.0.35->laserembeddings) (4.65.0)\n",
            "Collecting mock\n",
            "  Downloading mock-5.0.1-py3-none-any.whl (30 kB)\n",
            "Requirement already satisfied: typing-extensions in /usr/local/lib/python3.9/dist-packages (from torch<2.0.0,>=1.0.1.post2->laserembeddings) (4.5.0)\n",
            "Building wheels for collected packages: sacremoses\n",
            "  Building wheel for sacremoses (setup.py) ... \u001b[?25l\u001b[?25hdone\n",
            "  Created wheel for sacremoses: filename=sacremoses-0.0.35-py3-none-any.whl size=883989 sha256=249206daebec2ce73546747347418cb85c0f62b54a1cc5a93b70e235633a5e2b\n",
            "  Stored in directory: /root/.cache/pip/wheels/03/ff/40/07d5f480a834e1a92370122848b068395ddfd581add24b5b18\n",
            "Successfully built sacremoses\n",
            "Installing collected packages: transliterate, sacremoses, mock, subword-nmt, laserembeddings\n",
            "Successfully installed laserembeddings-1.1.2 mock-5.0.1 sacremoses-0.0.35 subword-nmt-0.3.8 transliterate-1.10.2\n",
            "Downloading models into /usr/local/lib/python3.9/dist-packages/laserembeddings/data\n",
            "\n",
            "✅   Downloaded https://dl.fbaipublicfiles.com/laser/models/93langs.fcodes    \n",
            "✅   Downloaded https://dl.fbaipublicfiles.com/laser/models/93langs.fvocab    \n",
            "✅   Downloaded https://dl.fbaipublicfiles.com/laser/models/bilstm.93langs.2018-12-26.pt    \n",
            "\n",
            "✨ You're all set!\n"
          ]
        }
      ]
    },
    {
      "cell_type": "markdown",
      "source": [
        "## 3. Get Bitext"
      ],
      "metadata": {
        "id": "LSy1sPKWOq9g"
      }
    },
    {
      "cell_type": "code",
      "source": [
        "cd /content/drive/MyDrive/AllforOne/Lecture/FAISS"
      ],
      "metadata": {
        "colab": {
          "base_uri": "https://localhost:8080/"
        },
        "id": "qoe_wmKAKeAX",
        "outputId": "6e11b64a-a704-406d-cbf4-6c8154f4b4be"
      },
      "execution_count": null,
      "outputs": [
        {
          "output_type": "stream",
          "name": "stdout",
          "text": [
            "/content/drive/MyDrive/AllforOne/Lecture/FAISS\n"
          ]
        }
      ]
    },
    {
      "cell_type": "code",
      "source": [
        "cat src.ko"
      ],
      "metadata": {
        "colab": {
          "base_uri": "https://localhost:8080/"
        },
        "id": "2tEsKiS2PXyb",
        "outputId": "cac24c56-6c40-4616-9c11-76f961fca427"
      },
      "execution_count": null,
      "outputs": [
        {
          "output_type": "stream",
          "name": "stdout",
          "text": [
            "집에 가고 싶다\n",
            "하지만 이미 집에 있다"
          ]
        }
      ]
    },
    {
      "cell_type": "code",
      "source": [
        "cat tgt.en"
      ],
      "metadata": {
        "colab": {
          "base_uri": "https://localhost:8080/"
        },
        "id": "-ZToRlaUPgWW",
        "outputId": "97fd3313-3956-403e-e90d-c1ac6c42a40b"
      },
      "execution_count": null,
      "outputs": [
        {
          "output_type": "stream",
          "name": "stdout",
          "text": [
            "I want to go home\n",
            "I love my home\n",
            "But I am already in home"
          ]
        }
      ]
    },
    {
      "cell_type": "markdown",
      "source": [
        "### 3-1. Query : Key = Source sentence : Target Document"
      ],
      "metadata": {
        "id": "B6irJsL3O8_Y"
      }
    },
    {
      "cell_type": "code",
      "source": [
        "import numpy as np\n",
        "import faiss\n",
        "from laserembeddings import Laser\n",
        "\n",
        "# bitext 데이터 로드\n",
        "with open('tgt.en', 'r', encoding='utf8') as f:\n",
        "    bitext = f.readlines()\n",
        "\n",
        "# LASER 모델 로드\n",
        "laser = Laser()\n",
        "\n",
        "# 문장 임베딩 생성\n",
        "embeddings = laser.embed_sentences(bitext, lang='en')\n",
        "\n",
        "# Faiss 인덱스 생성\n",
        "d = embeddings.shape[1]\n",
        "index = faiss.IndexFlatIP(d)\n",
        "index.add(embeddings)\n",
        "\n",
        "# 검색할 쿼리 문장\n",
        "query = '집에 가고 싶다'\n",
        "\n",
        "# 쿼리 문장의 임베딩 생성\n",
        "query_emb = laser.embed_sentences([query], lang='ko')[0]\n",
        "\n",
        "# 검색\n",
        "D, I = index.search(np.array([query_emb]), k=1)\n",
        "\n",
        "# 검색된 결과 출력\n",
        "print(\"Query: \", query)\n",
        "print(\"Key Sentence: \", bitext[I[0][0]])\n",
        "print(\"Index: \", I[0][0])"
      ],
      "metadata": {
        "colab": {
          "base_uri": "https://localhost:8080/"
        },
        "id": "UuGn6QAOJ4SU",
        "outputId": "7e3f7dc3-29ae-4a1f-a723-ba21d5a9dc5a"
      },
      "execution_count": null,
      "outputs": [
        {
          "output_type": "stream",
          "name": "stdout",
          "text": [
            "Query:  집에 가고 싶다\n",
            "Key Sentence:  I want to go home\n",
            "\n",
            "Index:  0\n"
          ]
        }
      ]
    },
    {
      "cell_type": "markdown",
      "source": [
        "### 3-2. Query : Key = Source Document : Target Document"
      ],
      "metadata": {
        "id": "HsmibUrSPApb"
      }
    },
    {
      "cell_type": "code",
      "source": [
        "import numpy as np\n",
        "import faiss\n",
        "from laserembeddings import Laser\n",
        "\n",
        "# src.txt와 tgt.txt 데이터 로드\n",
        "with open('src.ko', 'r', encoding='utf8') as f:\n",
        "    src_lines = f.readlines()\n",
        "    \n",
        "with open('tgt.en', 'r', encoding='utf8') as f:\n",
        "    tgt_lines = f.readlines()\n",
        "\n",
        "# LASER 모델 로드\n",
        "laser = Laser()\n",
        "\n",
        "# 문장 임베딩 생성\n",
        "src_embeddings = laser.embed_sentences(src_lines, lang='ko')\n",
        "tgt_embeddings = laser.embed_sentences(tgt_lines, lang='en')\n",
        "\n",
        "# Faiss 인덱스 생성\n",
        "d = src_embeddings.shape[1]\n",
        "index = faiss.IndexFlatIP(d)\n",
        "index.add(tgt_embeddings)\n",
        "\n",
        "# src.txt의 각 문장에서 가장 유사한 문장 검색\n",
        "for i, src_line in enumerate(src_lines):\n",
        "    # 쿼리 문장의 임베딩 생성\n",
        "    query_emb = laser.embed_sentences([src_line], lang='en')[0]\n",
        "    \n",
        "    # 검색\n",
        "    D, I = index.search(np.array([query_emb]), k=1)\n",
        "    \n",
        "    # 검색된 결과 출력\n",
        "    print(\"Source sentence: \", src_line.strip())\n",
        "    print(\"Target sentence: \", tgt_lines[I[0][0]].strip())\n",
        "    print(\"Source index: \", i)\n",
        "    print(\"Target index: \", I[0][0])\n",
        "    print()\n"
      ],
      "metadata": {
        "colab": {
          "base_uri": "https://localhost:8080/"
        },
        "id": "pcsCZ2T7KOou",
        "outputId": "af9f9ed6-2d6a-4cd2-ab6c-e447f9ab23bd"
      },
      "execution_count": null,
      "outputs": [
        {
          "output_type": "stream",
          "name": "stdout",
          "text": [
            "Source sentence:  집에 가고 싶다\n",
            "Target sentence:  I want to go home\n",
            "Source index:  0\n",
            "Target index:  0\n",
            "\n",
            "Source sentence:  하지만 이미 집에 있다\n",
            "Target sentence:  But I am already in home\n",
            "Source index:  1\n",
            "Target index:  2\n",
            "\n"
          ]
        }
      ]
    },
    {
      "cell_type": "code",
      "source": [],
      "metadata": {
        "id": "uOEJkTTCOZYJ"
      },
      "execution_count": null,
      "outputs": []
    }
  ]
}